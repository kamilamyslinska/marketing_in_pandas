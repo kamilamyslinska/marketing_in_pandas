{
  "nbformat": 4,
  "nbformat_minor": 0,
  "metadata": {
    "colab": {
      "provenance": [],
      "authorship_tag": "ABX9TyOe2IF4ikoQ0woi7j5qFZUU",
      "include_colab_link": true
    },
    "kernelspec": {
      "name": "python3",
      "display_name": "Python 3"
    },
    "language_info": {
      "name": "python"
    }
  },
  "cells": [
    {
      "cell_type": "markdown",
      "metadata": {
        "id": "view-in-github",
        "colab_type": "text"
      },
      "source": [
        "<a href=\"https://colab.research.google.com/github/kamilamyslinska/marketing_in_pandas/blob/main/marketing_in_pandas.ipynb\" target=\"_parent\"><img src=\"https://colab.research.google.com/assets/colab-badge.svg\" alt=\"Open In Colab\"/></a>"
      ]
    },
    {
      "cell_type": "markdown",
      "source": [
        "**Calculating conversion rate**\n",
        "\n",
        "\n",
        "On marketing teams, conversion rate is typically the most important metric. It is one of the best ways to determine how effective a marketing team was at gaining new customers.\n",
        "\n",
        "As a reminder, conversion rate is the percentage of the users who saw our marketing assets and subsequently became subscribers."
      ],
      "metadata": {
        "id": "J-hQ6RONjTuJ"
      }
    },
    {
      "cell_type": "code",
      "execution_count": null,
      "metadata": {
        "id": "sg09LzlXjLE3"
      },
      "outputs": [],
      "source": [
        "# Calculate the number of people we marketed to\n",
        "total = marketing['user_id'].nunique()\n",
        "\n",
        "# Calculate the number of people who subscribed\n",
        "subscribers = marketing[marketing[\"converted\"] == True]\\['user_id'].nunique()\n",
        "\n",
        "# Calculate the conversion rate\n",
        "conversion_rate = subscribers/total\n",
        "print(round(conversion_rate*100, 2), \"%\")"
      ]
    },
    {
      "cell_type": "markdown",
      "source": [
        "**Calculating retention rate**\n",
        "\n",
        "\n",
        "Conversion rate and retention rate function hand-in-hand; you could create a business with a high conversion rate by giving users a free trial, but have a low retention rate once users are charged for your services. This isn't inherently a bad thing, but it is important to provide your business stakeholders with insight into what percentage of users remain subscribers."
      ],
      "metadata": {
        "id": "6GxByqN5jupy"
      }
    },
    {
      "cell_type": "code",
      "source": [
        "# Calculate the number of subscribers\n",
        "total_subscribers = marketing[marketing[\"converted\"] == True]\\['user_id'].nunique()\n",
        "\n",
        "# Calculate the number of people who remained subscribed\n",
        "retained = marketing[marketing['is_retained'] == True]\\['user_id'].nunique()\n",
        "\n",
        "# Calculate the retention rate\n",
        "retention_rate = retained/total_subscribers\n",
        "print(round(retention_rate*100, 2), \"%\")"
      ],
      "metadata": {
        "id": "UVC-z24vj7V5"
      },
      "execution_count": null,
      "outputs": []
    },
    {
      "cell_type": "markdown",
      "source": [],
      "metadata": {
        "id": "TJJyFVRXkI83"
      }
    }
  ]
}